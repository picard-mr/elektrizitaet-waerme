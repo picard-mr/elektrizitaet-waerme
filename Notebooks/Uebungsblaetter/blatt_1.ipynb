{
 "cells": [
  {
   "cell_type": "markdown",
   "metadata": {},
   "source": [
    "# Blatt 1 - E&W\n",
    "\n",
    "Beispiele der Verwendung des symbolischen Rechnen in der Lösung der Übungsblätter."
   ]
  },
  {
   "cell_type": "markdown",
   "metadata": {},
   "source": [
    "## Aufgabe 1: Gasthermometer\n",
    "\n",
    "Der Druck eines idealen Gases in einem Gasthermometer mit konstantem Volumen beträgt am Gefrierpunkt von Wasser 0.4 bar und am Siedepunkt von Wasser 0.546 bar.\n",
    "    \n",
    "    a) Bei welcher Temperatur ist der Druck gerade 0.1 bar?"
   ]
  },
  {
   "cell_type": "code",
   "execution_count": 63,
   "metadata": {},
   "outputs": [
    {
     "name": "stdout",
     "output_type": "stream",
     "text": [
      "IPython console for SymPy 1.4 (Python 3.7.4-64-bit) (ground types: gmpy)\n",
      "\n",
      "These commands were executed:\n",
      ">>> from __future__ import division\n",
      ">>> from sympy import *\n",
      ">>> x, y, z, t = symbols('x y z t')\n",
      ">>> k, m, n = symbols('k m n', integer=True)\n",
      ">>> f, g, h = symbols('f g h', cls=Function)\n",
      ">>> init_printing()\n",
      "\n",
      "Documentation can be found at https://docs.sympy.org/1.4/\n",
      "\n"
     ]
    }
   ],
   "source": [
    "# Import packages\n",
    "from sympy import init_session\n",
    "\n",
    "init_session(use_latex=True)\n",
    "\n",
    "# Define variables and constants\n",
    "p, V, N_A, k_B, T = symbols('p V N_A k_B T')\n",
    "\n",
    "# Gefrierpunkt\n",
    "p_G = 0.4 # bar\n",
    "T_G = 273 # K\n",
    "\n",
    "# Siedepunkt\n",
    "p_s = 0.546 # bar\n",
    "T_s = 373 # K\n",
    "\n",
    "# Define 'Gas Ideale Gleichung'\n",
    "gas_gleichung = Eq(p*V, N_A*k_B*T)"
   ]
  },
  {
   "cell_type": "markdown",
   "metadata": {},
   "source": [
    "Wir lösen erstmal die Gasgleichung nach V und setzen die Werte eines Punktes (Gefrier/Sieden) ein."
   ]
  },
  {
   "cell_type": "code",
   "execution_count": 64,
   "metadata": {
    "scrolled": true
   },
   "outputs": [
    {
     "data": {
      "image/png": "[encoded data removed]",
      "text/latex": [
       "$\\displaystyle 682.5 N_{A} k_{B}$"
      ],
      "text/plain": [
       "682.5⋅N_A⋅k_B"
      ]
     },
     "execution_count": 64,
     "metadata": {},
     "output_type": "execute_result"
    }
   ],
   "source": [
    "V_expr, = solve(gas_gleichung, V)\n",
    "V_expr = V_expr.subs(p, p_G).subs(T, T_G) # For freezing point\n",
    "V_expr"
   ]
  },
  {
   "cell_type": "markdown",
   "metadata": {},
   "source": [
    "Dann setzen wir V_expr in der nach T gelöste Gasgleichung ein und werten wir $T_{(p = 0.1 bar)}$ aus."
   ]
  },
  {
   "cell_type": "code",
   "execution_count": 65,
   "metadata": {},
   "outputs": [
    {
     "data": {
      "image/png": "[encoded data removed]",
      "text/latex": [
       "$\\displaystyle 68.25$"
      ],
      "text/plain": [
       "68.2500000000000"
      ]
     },
     "execution_count": 65,
     "metadata": {},
     "output_type": "execute_result"
    }
   ],
   "source": [
    "T_expr, = solve(gas_gleichung, T)\n",
    "T_kelvin = T_expr.subs(V, V_expr).subs(p, 0.1)\n",
    "T_kelvin"
   ]
  },
  {
   "cell_type": "code",
   "execution_count": 68,
   "metadata": {},
   "outputs": [
    {
     "data": {
      "image/png": "[encoded data removed]",
      "text/latex": [
       "$\\displaystyle -204.75$"
      ],
      "text/plain": [
       "-204.750000000000"
      ]
     },
     "execution_count": 68,
     "metadata": {},
     "output_type": "execute_result"
    }
   ],
   "source": [
    "T_celsius = T_kelvin - 273\n",
    "T_celsius"
   ]
  },
  {
   "cell_type": "markdown",
   "metadata": {},
   "source": [
    "Das Ergebnis ist unabhängig des verwendeten Punktes der Zustandsgleichung. Es folgt eine Berechnung des Siedepunkts, die zeigt, dass beide Rechenwege gleich sind."
   ]
  },
  {
   "cell_type": "code",
   "execution_count": 69,
   "metadata": {},
   "outputs": [
    {
     "data": {
      "image/png": "[encoded data removed]",
      "text/latex": [
       "$\\displaystyle -204.684981684982$"
      ],
      "text/plain": [
       "-204.684981684982"
      ]
     },
     "execution_count": 69,
     "metadata": {},
     "output_type": "execute_result"
    }
   ],
   "source": [
    "V_expr, = solve(gas_gleichung, V)\n",
    "V_expr = V_expr.subs(p, p_s).subs(T, T_s) # For boiling point point\n",
    "\n",
    "T_expr, = solve(gas_gleichung, T)\n",
    "T_kelvin = T_expr.subs(V, V_expr).subs(p, 0.1)\n",
    "T_celsius = T_kelvin - 273\n",
    "T_celsius"
   ]
  },
  {
   "cell_type": "markdown",
   "metadata": {},
   "source": [
    "    b) Wie hoch ist der Druck bei T = 444.6˚C (Siedepunkt von Schwefel)?"
   ]
  },
  {
   "cell_type": "code",
   "execution_count": 74,
   "metadata": {},
   "outputs": [
    {
     "data": {
      "image/png": "[encoded data removed]",
      "text/latex": [
       "$\\displaystyle 1.05042788203753$"
      ],
      "text/plain": [
       "1.05042788203753"
      ]
     },
     "execution_count": 74,
     "metadata": {},
     "output_type": "execute_result"
    }
   ],
   "source": [
    "# Define new variables\n",
    "p_2 = symbols('p_2')\n",
    "T_2 = 444.6 + 273 # K\n",
    "\n",
    "# Solve ideal gas equation for volume and substitute temperature and pressure for each point\n",
    "V_2_expr = solve(gas_gleichung, V)[0].subs(T, T_2).subs(p, p_2)\n",
    "V_s_expr = solve(gas_gleichung, V)[0].subs(T, T_s).subs(p, p_s)\n",
    "\n",
    "# Set V_2_expr = V_s_expr and solve for p_2\n",
    "p_2, = solve(Eq(V_2_expr, V_s_expr), p_2)\n",
    "p_2 # bar"
   ]
  }
 ],
 "metadata": {
  "kernelspec": {
   "display_name": "Python 3",
   "language": "python",
   "name": "python3"
  },
  "language_info": {
   "codemirror_mode": {
    "name": "ipython",
    "version": 3
   },
   "file_extension": ".py",
   "mimetype": "text/x-python",
   "name": "python",
   "nbconvert_exporter": "python",
   "pygments_lexer": "ipython3",
   "version": "3.7.4"
  }
 },
 "nbformat": 4,
 "nbformat_minor": 2
}
