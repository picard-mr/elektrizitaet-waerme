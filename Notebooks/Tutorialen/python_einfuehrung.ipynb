{
 "cells": [
  {
   "cell_type": "markdown",
   "metadata": {},
   "source": [
    "<h1 align=\"center\">\n",
    "    Einführung in Data Visualisierung in Python\n",
    "</h1>\n",
    "\n",
    "\n",
    "<div align=\"center\" style=\"margin-top: 10px;\">\n",
    "    SS20\n",
    "</div>\n",
    "\n",
    "<div align=\"center\" style=\"margin-top: 20px;\">\n",
    "    <b>Projekt Picard</b>\n",
    "</div>"
   ]
  },
  {
   "cell_type": "markdown",
   "metadata": {},
   "source": [
    "Dieses Notebook soll eine grundlegende Einführung zum Verständnis der Notebooks sein, die die Klasse Elektrizität und Wärme unterstützen werden, so dass durch die Visualisierung von Funktionen die Inhalte der Klasse tiefer verstanden werden können."
   ]
  },
  {
   "cell_type": "markdown",
   "metadata": {},
   "source": [
    "# Python Syntax"
   ]
  },
  {
   "cell_type": "markdown",
   "metadata": {},
   "source": [
    "Es folgt eine Zusammenfassung der Syntax von Python, die nicht ins Detail gehen wird. Eine ausführlicherer Anleitung wird demnächst verfügbar sein."
   ]
  },
  {
   "cell_type": "markdown",
   "metadata": {},
   "source": [
    "### Kommentare"
   ]
  },
  {
   "cell_type": "markdown",
   "metadata": {},
   "source": [
    "Kommentare sind Textstücke, die der Interpreter ignoriert, die uns aber helfen, den Code zu verstehen. In Python gibt es zwei Möglichkeiten, Kommentare abzugeben. Am einfachsten ist es, das Raute-Symbol (Hash) zu verwenden. Dies wird für einzeilige Kommentare verwendet."
   ]
  },
  {
   "cell_type": "code",
   "execution_count": null,
   "metadata": {},
   "outputs": [],
   "source": [
    "# This is a comment!\n",
    "# Everything you type here will be ignored, so feel free to use it\n",
    "# It will help you or others to understand your code in the future"
   ]
  },
  {
   "cell_type": "markdown",
   "metadata": {},
   "source": [
    "Mehrzeilige Kommentare können auch unter Verwendung von dreifachen Anführungszeichen gemacht werden."
   ]
  },
  {
   "cell_type": "code",
   "execution_count": null,
   "metadata": {},
   "outputs": [],
   "source": [
    "\"\"\"\n",
    "This is a multiline comment,\n",
    "everything within the triple quotation marks will be ignored...\n",
    "\"\"\""
   ]
  },
  {
   "cell_type": "markdown",
   "metadata": {},
   "source": [
    "### Variablen"
   ]
  },
  {
   "cell_type": "markdown",
   "metadata": {},
   "source": [
    "In Python, wie in den meisten modernen Programmiersprachen, ist es nicht notwendig, den Typ der Variablen bei der Deklaration anzugeben, sondern der Interpreter leitet ihn aus der bereitgestellten Eingabe ab."
   ]
  },
  {
   "cell_type": "code",
   "execution_count": 1,
   "metadata": {},
   "outputs": [],
   "source": [
    "# Numerical data types\n",
    "a = 42\n",
    "b = 1.618\n",
    "\n",
    "# Strings\n",
    "mystr  = 'This is a string'         # Simple quotation mark (QM)\n",
    "mystr2 = \"This is another string\"   # Double QM\n",
    "                                    # There is no big difference if you use one or the other, use the one you prefer,\n",
    "                                    #  double QM allows you to use simple QM inside the string.\n",
    "        \n",
    "# Logical\n",
    "mybool  = True\n",
    "mybool2 = False"
   ]
  },
  {
   "cell_type": "markdown",
   "metadata": {},
   "source": [
    "Wie Sie sehen können, enden die Zeilen nicht mit einem Semikolon."
   ]
  },
  {
   "cell_type": "markdown",
   "metadata": {},
   "source": [
    "### if-Statement"
   ]
  },
  {
   "cell_type": "markdown",
   "metadata": {},
   "source": [
    "Der if-Statement braucht kein reserviertes Wort oder eine Klammer, um abgegrenzt zu werden, diese Funktion wird durch den Einrückung erfüllt, so dass dies bei der Einrückung unseres Codes für Ästhetik berücksichtigt werden muss."
   ]
  },
  {
   "cell_type": "code",
   "execution_count": 4,
   "metadata": {},
   "outputs": [
    {
     "name": "stdout",
     "output_type": "stream",
     "text": [
      "Inside elif!\n"
     ]
    }
   ],
   "source": [
    "if mybool2:\n",
    "    print(\"Inside if!\")\n",
    "elif mybool:\n",
    "    print(\"Inside elif!\")\n",
    "else:\n",
    "    print(\"Inside else!\")"
   ]
  },
  {
   "cell_type": "markdown",
   "metadata": {},
   "source": [
    "### Arrays"
   ]
  },
  {
   "cell_type": "markdown",
   "metadata": {},
   "source": [
    "In Python gibt es viele Arten von Daten, die als Arrays betrachtet werden.\n",
    "\n",
    "Ohne die Verwendung externer Libraries können wir Listen verwenden, das sind Datenstrukturen, bei denen jedes Element mit dem nächsten verkettet ist. Es funktioniert auf sehr ähnliche Weise wie traditionelle Arrays und kann jede Art von Daten enthalten, einschließlich Listen, so dass mehrdimensionale Listen (Liste von Listen) erstellt werden."
   ]
  },
  {
   "cell_type": "code",
   "execution_count": 2,
   "metadata": {
    "scrolled": true
   },
   "outputs": [
    {
     "name": "stdout",
     "output_type": "stream",
     "text": [
      "[[1, 2], [3, 4], [5, 6]]\n"
     ]
    }
   ],
   "source": [
    "mylist   = [1, 2, 3]\n",
    "my2Dlist = [[1, 2], [3, 4], [5, 6]]\n",
    "\n",
    "print(my2Dlist)"
   ]
  },
  {
   "cell_type": "markdown",
   "metadata": {},
   "source": [
    "Die NumPy-Bibliothek bietet uns einen Datentyp, der den traditionellen Arrays ähnlicher ist. Die Unterschiede werden in dem ausführlichen Anleitung besprochen.\n",
    "\n",
    "Um diese Bibliothek zu benutzen, ist es notwendig, sie in unseren Code zu importieren (Befehl 'import')."
   ]
  },
  {
   "cell_type": "code",
   "execution_count": 3,
   "metadata": {},
   "outputs": [
    {
     "name": "stdout",
     "output_type": "stream",
     "text": [
      "[[1 2]\n",
      " [3 4]\n",
      " [5 6]]\n"
     ]
    }
   ],
   "source": [
    "import numpy as np # np is just an alias, nothing more, but it's widely used. We'll see more examples of this soon.\n",
    "\n",
    "myarr = np.array(my2Dlist)\n",
    "\n",
    "print(myarr)"
   ]
  },
  {
   "cell_type": "markdown",
   "metadata": {},
   "source": [
    "### Schleifen"
   ]
  },
  {
   "cell_type": "markdown",
   "metadata": {},
   "source": [
    "Schleifen, wie das if-Statement, benötigen keinen markierten Abschluss. Die Einrückung grenzt den Umfang der Schleife ein.\n",
    "\n",
    "Ein unkonventionelles Merkmal von Python ist, dass das else-Statement in Schleifen verwendet werden kann. Am Ende einer Schleife werden die Befehle innerhalb des else ausgeführt. Die genaue Funktionsweise dieser Funktion wird in dem ausführlichen Anleitung näher erläutert."
   ]
  },
  {
   "cell_type": "code",
   "execution_count": 7,
   "metadata": {
    "scrolled": true
   },
   "outputs": [
    {
     "name": "stdout",
     "output_type": "stream",
     "text": [
      "1\n",
      "2\n",
      "3\n"
     ]
    }
   ],
   "source": [
    "for i in [1, 2, 3]:\n",
    "    print(i)"
   ]
  },
  {
   "cell_type": "code",
   "execution_count": 9,
   "metadata": {},
   "outputs": [
    {
     "name": "stdout",
     "output_type": "stream",
     "text": [
      "0\n",
      "1\n",
      "2\n",
      "3\n",
      "End of the loop!\n"
     ]
    }
   ],
   "source": [
    "i = 0\n",
    "while i < 4:\n",
    "    print(i)\n",
    "    i += 1\n",
    "else:\n",
    "    print(\"End of the loop!\")"
   ]
  },
  {
   "cell_type": "markdown",
   "metadata": {},
   "source": [
    "### Funktionen"
   ]
  },
  {
   "cell_type": "markdown",
   "metadata": {},
   "source": [
    "Die Funktionen sind sehr nützlich, um zu vermeiden, dass wir Codefragmente wiederholen müssen, die wir immer wieder benötigen werden. Im Folgenden wird beschrieben, wie Funktionen deklariert werden."
   ]
  },
  {
   "cell_type": "code",
   "execution_count": 10,
   "metadata": {},
   "outputs": [
    {
     "name": "stdout",
     "output_type": "stream",
     "text": [
      "37\n"
     ]
    }
   ],
   "source": [
    "def my_func (x, y):\n",
    "    sum = x + y\n",
    "    return sum\n",
    "\n",
    "print(my_func(13, 24))"
   ]
  },
  {
   "cell_type": "markdown",
   "metadata": {},
   "source": [
    "### Visualisierung"
   ]
  },
  {
   "cell_type": "markdown",
   "metadata": {},
   "source": [
    "Matplotlib ist eine sehr nützliche Bibliothek zur Erstellung aller Arten von Abbildungen. Im folgenden Beispiel wird diese Bibliothek importiert, dann definieren wir $x_{max}$ und $x_{min}$, in denen wir das Diagramm sehen wollen. Mit np.linspace erzeugen wir homogen verteilte Zahlen im definierten Intervall. Diese Werte werden in der gewünschten Funktion, in diesem Fall der Sinusfunktion, ausgewertet. Schließlich öffnen wir die Abbildung und verwenden $x$ und $y$ in der Plot-Funktion."
   ]
  },
  {
   "cell_type": "code",
   "execution_count": 11,
   "metadata": {
    "scrolled": true
   },
   "outputs": [
    {
     "data": {
      "image/png": "[encoded data removed]",
      "text/plain": [
       "<Figure size 432x288 with 1 Axes>"
      ]
     },
     "metadata": {
      "needs_background": "light"
     },
     "output_type": "display_data"
    }
   ],
   "source": [
    "import matplotlib.pyplot as plt\n",
    "\n",
    "x_max =  np.pi\n",
    "x_min = -np.pi\n",
    "\n",
    "x = np.linspace(x_min, x_max)\n",
    "y = np.sin(x)\n",
    "\n",
    "fig = plt.figure\n",
    "plt.plot(x, y)\n",
    "plt.show()"
   ]
  }
 ],
 "metadata": {
  "kernelspec": {
   "display_name": "Python 3",
   "language": "python",
   "name": "python3"
  },
  "language_info": {
   "codemirror_mode": {
    "name": "ipython",
    "version": 3
   },
   "file_extension": ".py",
   "mimetype": "text/x-python",
   "name": "python",
   "nbconvert_exporter": "python",
   "pygments_lexer": "ipython3",
   "version": "3.7.4"
  }
 },
 "nbformat": 4,
 "nbformat_minor": 2
}
